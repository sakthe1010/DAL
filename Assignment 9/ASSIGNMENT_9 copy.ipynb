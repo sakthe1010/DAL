{
 "cells": [
  {
   "cell_type": "code",
   "execution_count": 1,
   "metadata": {},
   "outputs": [],
   "source": [
    "import numpy as np\n",
    "import pandas as pd \n",
    "import matplotlib.pyplot as plt"
   ]
  },
  {
   "cell_type": "code",
   "execution_count": 2,
   "metadata": {},
   "outputs": [],
   "source": [
    "df = pd.read_csv('visual-taxonomy\\\\train.csv', na_values='nan')"
   ]
  },
  {
   "cell_type": "code",
   "execution_count": 3,
   "metadata": {},
   "outputs": [
    {
     "name": "stdout",
     "output_type": "stream",
     "text": [
      "<class 'pandas.core.frame.DataFrame'>\n",
      "RangeIndex: 70213 entries, 0 to 70212\n",
      "Data columns (total 13 columns):\n",
      " #   Column    Non-Null Count  Dtype \n",
      "---  ------    --------------  ----- \n",
      " 0   id        70213 non-null  int64 \n",
      " 1   Category  70213 non-null  object\n",
      " 2   len       70213 non-null  int64 \n",
      " 3   attr_1    51867 non-null  object\n",
      " 4   attr_2    55192 non-null  object\n",
      " 5   attr_3    54698 non-null  object\n",
      " 6   attr_4    59888 non-null  object\n",
      " 7   attr_5    56493 non-null  object\n",
      " 8   attr_6    38116 non-null  object\n",
      " 9   attr_7    41415 non-null  object\n",
      " 10  attr_8    37474 non-null  object\n",
      " 11  attr_9    33565 non-null  object\n",
      " 12  attr_10   24999 non-null  object\n",
      "dtypes: int64(2), object(11)\n",
      "memory usage: 7.0+ MB\n"
     ]
    }
   ],
   "source": [
    "df.info()"
   ]
  },
  {
   "cell_type": "code",
   "execution_count": 4,
   "metadata": {},
   "outputs": [
    {
     "data": {
      "text/html": [
       "<div>\n",
       "<style scoped>\n",
       "    .dataframe tbody tr th:only-of-type {\n",
       "        vertical-align: middle;\n",
       "    }\n",
       "\n",
       "    .dataframe tbody tr th {\n",
       "        vertical-align: top;\n",
       "    }\n",
       "\n",
       "    .dataframe thead th {\n",
       "        text-align: right;\n",
       "    }\n",
       "</style>\n",
       "<table border=\"1\" class=\"dataframe\">\n",
       "  <thead>\n",
       "    <tr style=\"text-align: right;\">\n",
       "      <th></th>\n",
       "      <th>id</th>\n",
       "      <th>Category</th>\n",
       "      <th>len</th>\n",
       "      <th>attr_1</th>\n",
       "      <th>attr_2</th>\n",
       "      <th>attr_3</th>\n",
       "      <th>attr_4</th>\n",
       "      <th>attr_5</th>\n",
       "      <th>attr_6</th>\n",
       "      <th>attr_7</th>\n",
       "      <th>attr_8</th>\n",
       "      <th>attr_9</th>\n",
       "      <th>attr_10</th>\n",
       "    </tr>\n",
       "  </thead>\n",
       "  <tbody>\n",
       "    <tr>\n",
       "      <th>0</th>\n",
       "      <td>0</td>\n",
       "      <td>Men Tshirts</td>\n",
       "      <td>5</td>\n",
       "      <td>default</td>\n",
       "      <td>round</td>\n",
       "      <td>printed</td>\n",
       "      <td>default</td>\n",
       "      <td>short sleeves</td>\n",
       "      <td>NaN</td>\n",
       "      <td>NaN</td>\n",
       "      <td>NaN</td>\n",
       "      <td>NaN</td>\n",
       "      <td>NaN</td>\n",
       "    </tr>\n",
       "    <tr>\n",
       "      <th>1</th>\n",
       "      <td>1</td>\n",
       "      <td>Men Tshirts</td>\n",
       "      <td>5</td>\n",
       "      <td>multicolor</td>\n",
       "      <td>polo</td>\n",
       "      <td>solid</td>\n",
       "      <td>solid</td>\n",
       "      <td>short sleeves</td>\n",
       "      <td>NaN</td>\n",
       "      <td>NaN</td>\n",
       "      <td>NaN</td>\n",
       "      <td>NaN</td>\n",
       "      <td>NaN</td>\n",
       "    </tr>\n",
       "    <tr>\n",
       "      <th>2</th>\n",
       "      <td>2</td>\n",
       "      <td>Men Tshirts</td>\n",
       "      <td>5</td>\n",
       "      <td>default</td>\n",
       "      <td>polo</td>\n",
       "      <td>solid</td>\n",
       "      <td>solid</td>\n",
       "      <td>short sleeves</td>\n",
       "      <td>NaN</td>\n",
       "      <td>NaN</td>\n",
       "      <td>NaN</td>\n",
       "      <td>NaN</td>\n",
       "      <td>NaN</td>\n",
       "    </tr>\n",
       "    <tr>\n",
       "      <th>3</th>\n",
       "      <td>3</td>\n",
       "      <td>Men Tshirts</td>\n",
       "      <td>5</td>\n",
       "      <td>multicolor</td>\n",
       "      <td>polo</td>\n",
       "      <td>solid</td>\n",
       "      <td>solid</td>\n",
       "      <td>short sleeves</td>\n",
       "      <td>NaN</td>\n",
       "      <td>NaN</td>\n",
       "      <td>NaN</td>\n",
       "      <td>NaN</td>\n",
       "      <td>NaN</td>\n",
       "    </tr>\n",
       "    <tr>\n",
       "      <th>4</th>\n",
       "      <td>4</td>\n",
       "      <td>Men Tshirts</td>\n",
       "      <td>5</td>\n",
       "      <td>multicolor</td>\n",
       "      <td>polo</td>\n",
       "      <td>solid</td>\n",
       "      <td>solid</td>\n",
       "      <td>short sleeves</td>\n",
       "      <td>NaN</td>\n",
       "      <td>NaN</td>\n",
       "      <td>NaN</td>\n",
       "      <td>NaN</td>\n",
       "      <td>NaN</td>\n",
       "    </tr>\n",
       "  </tbody>\n",
       "</table>\n",
       "</div>"
      ],
      "text/plain": [
       "   id     Category  len      attr_1 attr_2   attr_3   attr_4         attr_5  \\\n",
       "0   0  Men Tshirts    5     default  round  printed  default  short sleeves   \n",
       "1   1  Men Tshirts    5  multicolor   polo    solid    solid  short sleeves   \n",
       "2   2  Men Tshirts    5     default   polo    solid    solid  short sleeves   \n",
       "3   3  Men Tshirts    5  multicolor   polo    solid    solid  short sleeves   \n",
       "4   4  Men Tshirts    5  multicolor   polo    solid    solid  short sleeves   \n",
       "\n",
       "  attr_6 attr_7 attr_8 attr_9 attr_10  \n",
       "0    NaN    NaN    NaN    NaN     NaN  \n",
       "1    NaN    NaN    NaN    NaN     NaN  \n",
       "2    NaN    NaN    NaN    NaN     NaN  \n",
       "3    NaN    NaN    NaN    NaN     NaN  \n",
       "4    NaN    NaN    NaN    NaN     NaN  "
      ]
     },
     "execution_count": 4,
     "metadata": {},
     "output_type": "execute_result"
    }
   ],
   "source": [
    "df.head()"
   ]
  },
  {
   "cell_type": "code",
   "execution_count": 5,
   "metadata": {},
   "outputs": [
    {
     "data": {
      "text/plain": [
       "array(['Men Tshirts', 'Sarees', 'Kurtis', 'Women Tshirts',\n",
       "       'Women Tops & Tunics'], dtype=object)"
      ]
     },
     "execution_count": 5,
     "metadata": {},
     "output_type": "execute_result"
    }
   ],
   "source": [
    "df['Category'].unique()"
   ]
  },
  {
   "cell_type": "markdown",
   "metadata": {},
   "source": [
    "# Task 1"
   ]
  },
  {
   "cell_type": "code",
   "execution_count": 6,
   "metadata": {},
   "outputs": [
    {
     "name": "stdout",
     "output_type": "stream",
     "text": [
      "<class 'pandas.core.frame.DataFrame'>\n",
      "Index: 7267 entries, 0 to 7266\n",
      "Data columns (total 13 columns):\n",
      " #   Column    Non-Null Count  Dtype \n",
      "---  ------    --------------  ----- \n",
      " 0   id        7267 non-null   int64 \n",
      " 1   Category  7267 non-null   object\n",
      " 2   len       7267 non-null   int64 \n",
      " 3   attr_1    6010 non-null   object\n",
      " 4   attr_2    6144 non-null   object\n",
      " 5   attr_3    5791 non-null   object\n",
      " 6   attr_4    5949 non-null   object\n",
      " 7   attr_5    5977 non-null   object\n",
      " 8   attr_6    0 non-null      object\n",
      " 9   attr_7    0 non-null      object\n",
      " 10  attr_8    0 non-null      object\n",
      " 11  attr_9    0 non-null      object\n",
      " 12  attr_10   0 non-null      object\n",
      "dtypes: int64(2), object(11)\n",
      "memory usage: 794.8+ KB\n"
     ]
    }
   ],
   "source": [
    "menTshirts = df[df['Category'] == 'Men Tshirts']\n",
    "menTshirts.info()"
   ]
  },
  {
   "cell_type": "code",
   "execution_count": 7,
   "metadata": {},
   "outputs": [],
   "source": [
    "menTBasket1 = pd.DataFrame(menTshirts, columns=['Category', 'attr_1', 'id']).sample(100, random_state=42).reset_index(drop=True)\n",
    "menTBasket2 = pd.DataFrame(menTshirts, columns=['Category', 'attr_5', 'id']).sample(100, random_state=42).reset_index(drop=True)"
   ]
  },
  {
   "cell_type": "code",
   "execution_count": 8,
   "metadata": {},
   "outputs": [
    {
     "name": "stdout",
     "output_type": "stream",
     "text": [
      "<class 'pandas.core.frame.DataFrame'>\n",
      "Index: 18346 entries, 7267 to 25612\n",
      "Data columns (total 13 columns):\n",
      " #   Column    Non-Null Count  Dtype \n",
      "---  ------    --------------  ----- \n",
      " 0   id        18346 non-null  int64 \n",
      " 1   Category  18346 non-null  object\n",
      " 2   len       18346 non-null  int64 \n",
      " 3   attr_1    7885 non-null   object\n",
      " 4   attr_2    17679 non-null  object\n",
      " 5   attr_3    15861 non-null  object\n",
      " 6   attr_4    17896 non-null  object\n",
      " 7   attr_5    17649 non-null  object\n",
      " 8   attr_6    5010 non-null   object\n",
      " 9   attr_7    8896 non-null   object\n",
      " 10  attr_8    16465 non-null  object\n",
      " 11  attr_9    14303 non-null  object\n",
      " 12  attr_10   17818 non-null  object\n",
      "dtypes: int64(2), object(11)\n",
      "memory usage: 2.0+ MB\n"
     ]
    }
   ],
   "source": [
    "sarees = df[df['Category'] == 'Sarees']\n",
    "sarees.info()"
   ]
  },
  {
   "cell_type": "code",
   "execution_count": 9,
   "metadata": {},
   "outputs": [],
   "source": [
    "sareeBasket1 = pd.DataFrame(sarees, columns=['Category', 'attr_4', 'id']).sample(100, random_state=42).reset_index(drop=True)  \n",
    "sareeBasket2 = pd.DataFrame(sarees, columns=['Category', 'attr_5', 'id']).sample(100, random_state=42).reset_index(drop=True)"
   ]
  },
  {
   "cell_type": "code",
   "execution_count": 10,
   "metadata": {},
   "outputs": [
    {
     "name": "stdout",
     "output_type": "stream",
     "text": [
      "<class 'pandas.core.frame.DataFrame'>\n",
      "Index: 6822 entries, 25613 to 32434\n",
      "Data columns (total 13 columns):\n",
      " #   Column    Non-Null Count  Dtype \n",
      "---  ------    --------------  ----- \n",
      " 0   id        6822 non-null   int64 \n",
      " 1   Category  6822 non-null   object\n",
      " 2   len       6822 non-null   int64 \n",
      " 3   attr_1    6629 non-null   object\n",
      " 4   attr_2    3231 non-null   object\n",
      " 5   attr_3    3400 non-null   object\n",
      " 6   attr_4    6431 non-null   object\n",
      " 7   attr_5    3266 non-null   object\n",
      " 8   attr_6    3848 non-null   object\n",
      " 9   attr_7    3843 non-null   object\n",
      " 10  attr_8    6702 non-null   object\n",
      " 11  attr_9    6691 non-null   object\n",
      " 12  attr_10   0 non-null      object\n",
      "dtypes: int64(2), object(11)\n",
      "memory usage: 746.2+ KB\n"
     ]
    }
   ],
   "source": [
    "kurtis = df[df['Category'] == 'Kurtis']\n",
    "kurtis.info()"
   ]
  },
  {
   "cell_type": "code",
   "execution_count": 11,
   "metadata": {},
   "outputs": [],
   "source": [
    "kurtiBasket1 = pd.DataFrame(kurtis, columns=['Category', 'attr_1', 'id']).sample(100, random_state=42).reset_index(drop=True)\n",
    "kurtiBasket2 = pd.DataFrame(kurtis, columns=['Category', 'attr_9', 'id']).sample(100, random_state=42).reset_index(drop=True)"
   ]
  },
  {
   "cell_type": "code",
   "execution_count": 12,
   "metadata": {},
   "outputs": [
    {
     "name": "stdout",
     "output_type": "stream",
     "text": [
      "<class 'pandas.core.frame.DataFrame'>\n",
      "Index: 18774 entries, 32435 to 51208\n",
      "Data columns (total 13 columns):\n",
      " #   Column    Non-Null Count  Dtype \n",
      "---  ------    --------------  ----- \n",
      " 0   id        18774 non-null  int64 \n",
      " 1   Category  18774 non-null  object\n",
      " 2   len       18774 non-null  int64 \n",
      " 3   attr_1    17285 non-null  object\n",
      " 4   attr_2    14801 non-null  object\n",
      " 5   attr_3    16580 non-null  object\n",
      " 6   attr_4    16161 non-null  object\n",
      " 7   attr_5    17034 non-null  object\n",
      " 8   attr_6    16041 non-null  object\n",
      " 9   attr_7    15460 non-null  object\n",
      " 10  attr_8    510 non-null    object\n",
      " 11  attr_9    0 non-null      object\n",
      " 12  attr_10   0 non-null      object\n",
      "dtypes: int64(2), object(11)\n",
      "memory usage: 2.0+ MB\n"
     ]
    }
   ],
   "source": [
    "womenT = df[df['Category'] == 'Women Tshirts']\n",
    "womenT.info()"
   ]
  },
  {
   "cell_type": "code",
   "execution_count": 13,
   "metadata": {},
   "outputs": [],
   "source": [
    "womenTBasket1 = pd.DataFrame(womenT, columns=['Category', 'attr_1', 'id']).sample(100, random_state=42).reset_index(drop=True)\n",
    "womenTBasket2 = pd.DataFrame(womenT, columns=['Category', 'attr_3', 'id']).sample(100, random_state=42).reset_index(drop=True)"
   ]
  },
  {
   "cell_type": "code",
   "execution_count": 14,
   "metadata": {},
   "outputs": [
    {
     "name": "stdout",
     "output_type": "stream",
     "text": [
      "<class 'pandas.core.frame.DataFrame'>\n",
      "Index: 19004 entries, 51209 to 70212\n",
      "Data columns (total 13 columns):\n",
      " #   Column    Non-Null Count  Dtype \n",
      "---  ------    --------------  ----- \n",
      " 0   id        19004 non-null  int64 \n",
      " 1   Category  19004 non-null  object\n",
      " 2   len       19004 non-null  int64 \n",
      " 3   attr_1    14058 non-null  object\n",
      " 4   attr_2    13337 non-null  object\n",
      " 5   attr_3    13066 non-null  object\n",
      " 6   attr_4    13451 non-null  object\n",
      " 7   attr_5    12567 non-null  object\n",
      " 8   attr_6    13217 non-null  object\n",
      " 9   attr_7    13216 non-null  object\n",
      " 10  attr_8    13797 non-null  object\n",
      " 11  attr_9    12571 non-null  object\n",
      " 12  attr_10   7181 non-null   object\n",
      "dtypes: int64(2), object(11)\n",
      "memory usage: 2.0+ MB\n"
     ]
    }
   ],
   "source": [
    "topsNTunics = df[df['Category'] == 'Women Tops & Tunics']\n",
    "topsNTunics.info()"
   ]
  },
  {
   "cell_type": "code",
   "execution_count": 15,
   "metadata": {},
   "outputs": [],
   "source": [
    "topsNTunicsBasket1 = pd.DataFrame(topsNTunics, columns=['Category', 'attr_1', 'id']).sample(100).reset_index(drop=True)\n",
    "topsNTunicsBasket2 = pd.DataFrame(topsNTunics, columns=['Category', 'attr_6', 'id']).sample(100).reset_index(drop=True)"
   ]
  },
  {
   "cell_type": "markdown",
   "metadata": {},
   "source": [
    "# Task 2"
   ]
  },
  {
   "cell_type": "code",
   "execution_count": 16,
   "metadata": {},
   "outputs": [],
   "source": [
    "from PIL import Image"
   ]
  },
  {
   "cell_type": "code",
   "execution_count": 17,
   "metadata": {},
   "outputs": [
    {
     "data": {
      "text/plain": [
       "(100, 49152)"
      ]
     },
     "execution_count": 17,
     "metadata": {},
     "output_type": "execute_result"
    }
   ],
   "source": [
    "data = []\n",
    "for id in menTBasket1['id']:\n",
    "    img = Image.open('visual-taxonomy\\\\train_images\\\\' + str(id).zfill(6) + '.jpg').resize((128,128))\n",
    "    pixels = np.array(img)\n",
    "    data.append(pixels)\n",
    "\n",
    "data = np.array(data)\n",
    "data.shape\n",
    "num_images, height, width, channels = data.shape\n",
    "data_reshaped = data.reshape(num_images, height * width * channels)\n",
    "data_reshaped.shape"
   ]
  },
  {
   "cell_type": "code",
   "execution_count": 18,
   "metadata": {},
   "outputs": [
    {
     "data": {
      "text/plain": [
       "(100, 2)"
      ]
     },
     "execution_count": 18,
     "metadata": {},
     "output_type": "execute_result"
    }
   ],
   "source": [
    "from sklearn.manifold import Isomap\n",
    "model = Isomap(n_components=2)\n",
    "proj = model.fit_transform(data_reshaped)\n",
    "proj.shape"
   ]
  },
  {
   "cell_type": "code",
   "execution_count": 19,
   "metadata": {},
   "outputs": [],
   "source": [
    "import matplotlib.pyplot as plt\n",
    "from matplotlib import offsetbox\n",
    "\n",
    "def plot_components(data, model, images=None, ax=None,\n",
    "                    thumb_frac=0.05, cmap='gray'):\n",
    "    ax = ax or plt.gca()\n",
    "\n",
    "    proj = model.fit_transform(data)\n",
    "    ax.plot(proj[:, 0], proj[:, 1], '.k')\n",
    "\n",
    "    if images is not None:\n",
    "        min_dist_2 = (thumb_frac * max(proj.max(0) - proj.min(0))) ** 2\n",
    "        shown_images = np.array([2 * proj.max(0)])\n",
    "        for i in range(data.shape[0]):\n",
    "            dist = np.sum((proj[i] - shown_images) ** 2, 1)\n",
    "            if np.min(dist) < min_dist_2:\n",
    "                continue\n",
    "            shown_images = np.vstack([shown_images, proj[i]])\n",
    "            imagebox = offsetbox.AnnotationBbox(\n",
    "                offsetbox.OffsetImage(images[i], cmap=cmap),\n",
    "                proj[i]\n",
    "            )\n",
    "            ax.add_artist(imagebox)\n"
   ]
  },
  {
   "cell_type": "code",
   "execution_count": null,
   "metadata": {},
   "outputs": [],
   "source": [
    "downsampled_images = data[:, ::2, ::2, :]\n",
    "\n",
    "fig, ax = plt.subplots(figsize=(10, 10))\n",
    "plot_components(data.reshape(data.shape[0], -1),\n",
    "                model=Isomap(n_components=2),\n",
    "                images=downsampled_images)\n",
    "plt.show()"
   ]
  },
  {
   "cell_type": "markdown",
   "metadata": {},
   "source": [
    "Similarly for all combinations "
   ]
  },
  {
   "cell_type": "code",
   "execution_count": 26,
   "metadata": {},
   "outputs": [
    {
     "ename": "TypeError",
     "evalue": "plot_components() missing 1 required positional argument: 'title'",
     "output_type": "error",
     "traceback": [
      "\u001b[1;31m---------------------------------------------------------------------------\u001b[0m",
      "\u001b[1;31mTypeError\u001b[0m                                 Traceback (most recent call last)",
      "Cell \u001b[1;32mIn[26], line 25\u001b[0m\n\u001b[0;32m     22\u001b[0m downsampled_images \u001b[38;5;241m=\u001b[39m data[:, ::\u001b[38;5;241m2\u001b[39m, ::\u001b[38;5;241m2\u001b[39m, :]\n\u001b[0;32m     24\u001b[0m fig, ax \u001b[38;5;241m=\u001b[39m plt\u001b[38;5;241m.\u001b[39msubplots(figsize\u001b[38;5;241m=\u001b[39m(\u001b[38;5;241m10\u001b[39m, \u001b[38;5;241m10\u001b[39m))\n\u001b[1;32m---> 25\u001b[0m \u001b[43mplot_components\u001b[49m\u001b[43m(\u001b[49m\u001b[43mdata_reshaped\u001b[49m\u001b[43m,\u001b[49m\u001b[43m \u001b[49m\u001b[43mmodel\u001b[49m\u001b[38;5;241;43m=\u001b[39;49m\u001b[43mmodel\u001b[49m\u001b[43m,\u001b[49m\u001b[43m \u001b[49m\u001b[43mimages\u001b[49m\u001b[38;5;241;43m=\u001b[39;49m\u001b[43mdownsampled_images\u001b[49m\u001b[43m,\u001b[49m\u001b[43m \u001b[49m\u001b[43max\u001b[49m\u001b[38;5;241;43m=\u001b[39;49m\u001b[43max\u001b[49m\u001b[43m)\u001b[49m\n\u001b[0;32m     27\u001b[0m \u001b[38;5;28mprint\u001b[39m(\u001b[38;5;124mf\u001b[39m\u001b[38;5;124m\"\u001b[39m\u001b[38;5;124mProjection for \u001b[39m\u001b[38;5;132;01m{\u001b[39;00mbasket\u001b[38;5;132;01m}\u001b[39;00m\u001b[38;5;124m\"\u001b[39m)\n\u001b[0;32m     28\u001b[0m plt\u001b[38;5;241m.\u001b[39mshow()\n",
      "\u001b[1;31mTypeError\u001b[0m: plot_components() missing 1 required positional argument: 'title'"
     ]
    },
    {
     "data": {
      "image/png": "[encoded data removed]",
      "text/plain": [
       "<Figure size 1000x1000 with 1 Axes>"
      ]
     },
     "metadata": {},
     "output_type": "display_data"
    }
   ],
   "source": [
    "from sklearn.manifold import TSNE\n",
    "baskets = ['menTBasket1', 'menTBasket2', 'sareeBasket1', 'sareeBasket2', \n",
    "           'kurtiBasket1', 'kurtiBasket2', 'womenTBasket1', 'womenTBasket2', \n",
    "           'topsNTunicsBasket1', 'topsNTunicsBasket2']\n",
    "\n",
    "for basket in baskets:\n",
    "    data = []\n",
    "    for id in globals()[basket]['id']:\n",
    "        img = Image.open('visual-taxonomy/train_images/' + str(id).zfill(6) + '.jpg').resize((128, 128))\n",
    "        pixels = np.array(img)\n",
    "        data.append(pixels)\n",
    "    data = np.array(data)\n",
    "    num_images, height, width, channels = data.shape\n",
    "    data_reshaped = data.reshape(num_images, height * width * channels)\n",
    "    downsampled_images = data[:, ::2, ::2, :]\n",
    "    \n",
    "    model = Isomap(n_components=2)\n",
    "    proj = model.fit_transform(data_reshaped)\n",
    "\n",
    "    fig, ax = plt.subplots(figsize=(10, 10))\n",
    "    plot_components(data_reshaped, model=model, images=downsampled_images, ax=ax, title=f\"Isomap Projection for {basket}\")\n",
    "\n",
    "    print(f\"Projection for {basket}\")\n",
    "    plt.show()\n",
    "\n",
    "    model_2 = TSNE(n_components=2)\n",
    "    proj = model_2.fit_transform(data_reshaped)\n",
    "\n",
    "    fig, ax = plt.subplots(figsize=(10, 10))\n",
    "    plot_components(data_reshaped, model=model_2, images=downsampled_images, ax=ax, title=f\"t-SNE Projection for {basket}\")\n",
    "    \n",
    "    print(f\"Projection for {basket}\")\n",
    "    plt.show()\n"
   ]
  },
  {
   "cell_type": "code",
   "execution_count": null,
   "metadata": {},
   "outputs": [],
   "source": [
    "from sklearn.manifold import TSNE\n",
    "\n",
    "baskets = ['menTBasket1', 'menTBasket2', 'sareeBasket1', 'sareeBasket2', \n",
    "           'kurtiBasket1', 'kurtiBasket2', 'womenTBasket1', 'womenTBasket2', \n",
    "           'topsNTunicsBasket1', 'topsNTunicsBasket2']\n",
    "\n",
    "for basket in baskets:\n",
    "    data = []\n",
    "    for id in globals()[basket]['id']:\n",
    "        img = Image.open('visual-taxonomy/train_images/' + str(id).zfill(6) + '.jpg').resize((128, 128))\n",
    "        pixels = np.array(img)\n",
    "        data.append(pixels)\n",
    "    data = np.array(data)\n",
    "    num_images, height, width, channels = data.shape\n",
    "    data_reshaped = data.reshape(num_images, height * width * channels)\n",
    "    \n",
    "    model_2 = TSNE(n_components=2)\n",
    "    proj = model_2.fit_transform(data_reshaped)\n",
    "    downsampled_images = data[:, ::2, ::2, :]\n",
    "    \n",
    "    fig, ax = plt.subplots(figsize=(10, 10))\n",
    "    plot_components(data_reshaped, model=model_2, images=downsampled_images, ax=ax)\n",
    "    \n",
    "    print(f\"Projection for {basket}\")\n",
    "    plt.show()"
   ]
  },
  {
   "cell_type": "markdown",
   "metadata": {},
   "source": [
    "# Task 3"
   ]
  },
  {
   "cell_type": "markdown",
   "metadata": {},
   "source": [
    "## ISOMAP"
   ]
  },
  {
   "cell_type": "markdown",
   "metadata": {},
   "source": [
    "### menTBasket1"
   ]
  },
  {
   "cell_type": "markdown",
   "metadata": {},
   "source": [
    "X - Axis = \n",
    "\n",
    "Y - Axis = "
   ]
  },
  {
   "cell_type": "markdown",
   "metadata": {},
   "source": [
    "### menTBasket2"
   ]
  },
  {
   "cell_type": "markdown",
   "metadata": {},
   "source": [
    "X - Axis = \n",
    "\n",
    "Y - Axis = "
   ]
  },
  {
   "cell_type": "markdown",
   "metadata": {},
   "source": [
    "### kurtiBasket1"
   ]
  },
  {
   "cell_type": "markdown",
   "metadata": {},
   "source": [
    "X - Axis = \n",
    "\n",
    "Y - Axis = "
   ]
  },
  {
   "cell_type": "markdown",
   "metadata": {},
   "source": [
    "### kurtiBasket2"
   ]
  },
  {
   "cell_type": "markdown",
   "metadata": {},
   "source": [
    "X - Axis = \n",
    "\n",
    "Y - Axis = "
   ]
  },
  {
   "cell_type": "markdown",
   "metadata": {},
   "source": [
    "### sareeBasket1"
   ]
  },
  {
   "cell_type": "markdown",
   "metadata": {},
   "source": [
    "X - Axis = \n",
    "\n",
    "Y - Axis = "
   ]
  },
  {
   "cell_type": "markdown",
   "metadata": {},
   "source": [
    "### sareeTBasket2"
   ]
  },
  {
   "cell_type": "markdown",
   "metadata": {},
   "source": [
    "X - Axis = \n",
    "\n",
    "Y - Axis = "
   ]
  },
  {
   "cell_type": "markdown",
   "metadata": {},
   "source": [
    "### womenTBasket1"
   ]
  },
  {
   "cell_type": "markdown",
   "metadata": {},
   "source": [
    "X - Axis = \n",
    "\n",
    "Y - Axis = "
   ]
  },
  {
   "cell_type": "markdown",
   "metadata": {},
   "source": [
    "### womenTBasket2"
   ]
  },
  {
   "cell_type": "markdown",
   "metadata": {},
   "source": [
    "X - Axis = \n",
    "\n",
    "Y - Axis = "
   ]
  },
  {
   "cell_type": "markdown",
   "metadata": {},
   "source": [
    "### topsNTunicsBasket1"
   ]
  },
  {
   "cell_type": "markdown",
   "metadata": {},
   "source": [
    "X - Axis = \n",
    "\n",
    "Y - Axis = "
   ]
  },
  {
   "cell_type": "markdown",
   "metadata": {},
   "source": [
    "### topsNTunicsBasket2"
   ]
  },
  {
   "cell_type": "markdown",
   "metadata": {},
   "source": [
    "X - Axis = \n",
    "\n",
    "Y - Axis = "
   ]
  },
  {
   "cell_type": "markdown",
   "metadata": {},
   "source": [
    "## TSNE"
   ]
  },
  {
   "cell_type": "markdown",
   "metadata": {},
   "source": [
    "### menTBasket1"
   ]
  },
  {
   "cell_type": "markdown",
   "metadata": {},
   "source": [
    "X - Axis = \n",
    "\n",
    "Y - Axis = "
   ]
  },
  {
   "cell_type": "markdown",
   "metadata": {},
   "source": [
    "### menTBasket2"
   ]
  },
  {
   "cell_type": "markdown",
   "metadata": {},
   "source": [
    "X - Axis = \n",
    "\n",
    "Y - Axis = "
   ]
  },
  {
   "cell_type": "markdown",
   "metadata": {},
   "source": [
    "### kurtiBasket1"
   ]
  },
  {
   "cell_type": "markdown",
   "metadata": {},
   "source": [
    "X - Axis = \n",
    "\n",
    "Y - Axis = "
   ]
  },
  {
   "cell_type": "markdown",
   "metadata": {},
   "source": [
    "### kurtiBasket2"
   ]
  },
  {
   "cell_type": "markdown",
   "metadata": {},
   "source": [
    "X - Axis = \n",
    "\n",
    "Y - Axis = "
   ]
  },
  {
   "cell_type": "markdown",
   "metadata": {},
   "source": [
    "### sareeBasket1"
   ]
  },
  {
   "cell_type": "markdown",
   "metadata": {},
   "source": [
    "X - Axis = \n",
    "\n",
    "Y - Axis = "
   ]
  },
  {
   "cell_type": "markdown",
   "metadata": {},
   "source": [
    "### sareeTBasket2"
   ]
  },
  {
   "cell_type": "markdown",
   "metadata": {},
   "source": [
    "X - Axis = \n",
    "\n",
    "Y - Axis = "
   ]
  },
  {
   "cell_type": "markdown",
   "metadata": {},
   "source": [
    "### womenTBasket1"
   ]
  },
  {
   "cell_type": "markdown",
   "metadata": {},
   "source": [
    "X - Axis = \n",
    "\n",
    "Y - Axis = "
   ]
  },
  {
   "cell_type": "markdown",
   "metadata": {},
   "source": [
    "### womenTBasket2"
   ]
  },
  {
   "cell_type": "markdown",
   "metadata": {},
   "source": [
    "X - Axis = \n",
    "\n",
    "Y - Axis = "
   ]
  },
  {
   "cell_type": "markdown",
   "metadata": {},
   "source": [
    "### topsNTunicsBasket1"
   ]
  },
  {
   "cell_type": "markdown",
   "metadata": {},
   "source": [
    "X - Axis = Brightness (Color background to White background)\n",
    "\n",
    "Y - Axis = "
   ]
  },
  {
   "cell_type": "markdown",
   "metadata": {},
   "source": [
    "### topsNTunicsBasket2"
   ]
  },
  {
   "cell_type": "markdown",
   "metadata": {},
   "source": [
    "X - Axis = Long sleeves to short sleeves\n",
    "Y - Axis = Color of the dress(Dark to light)"
   ]
  }
 ],
 "metadata": {
  "kernelspec": {
   "display_name": "Python 3",
   "language": "python",
   "name": "python3"
  },
  "language_info": {
   "codemirror_mode": {
    "name": "ipython",
    "version": 3
   },
   "file_extension": ".py",
   "mimetype": "text/x-python",
   "name": "python",
   "nbconvert_exporter": "python",
   "pygments_lexer": "ipython3",
   "version": "3.12.5"
  }
 },
 "nbformat": 4,
 "nbformat_minor": 2
}
